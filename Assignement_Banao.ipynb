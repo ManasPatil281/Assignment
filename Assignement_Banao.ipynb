{
  "nbformat": 4,
  "nbformat_minor": 0,
  "metadata": {
    "colab": {
      "provenance": [],
      "gpuType": "T4",
      "include_colab_link": true
    },
    "kernelspec": {
      "name": "python3",
      "display_name": "Python 3"
    },
    "language_info": {
      "name": "python"
    },
    "accelerator": "GPU"
  },
  "cells": [
    {
      "cell_type": "markdown",
      "metadata": {
        "id": "view-in-github",
        "colab_type": "text"
      },
      "source": [
        "<a href=\"https://colab.research.google.com/github/ManasPatil281/Assignment/blob/main/Assignement_Banao.ipynb\" target=\"_parent\"><img src=\"https://colab.research.google.com/assets/colab-badge.svg\" alt=\"Open In Colab\"/></a>"
      ]
    },
    {
      "cell_type": "code",
      "execution_count": null,
      "metadata": {
        "colab": {
          "base_uri": "https://localhost:8080/"
        },
        "collapsed": true,
        "id": "btORNiF8o75u",
        "outputId": "3a94a6d2-e21d-4882-8cc8-36a880546647"
      },
      "outputs": [
        {
          "output_type": "stream",
          "name": "stdout",
          "text": [
            "Collecting beautifulsoup4==4.7.1\n",
            "  Downloading beautifulsoup4-4.7.1-py3-none-any.whl.metadata (3.0 kB)\n",
            "Collecting certifi==2019.3.9\n",
            "  Downloading certifi-2019.3.9-py2.py3-none-any.whl.metadata (2.5 kB)\n",
            "Collecting chardet==3.0.4\n",
            "  Downloading chardet-3.0.4-py2.py3-none-any.whl.metadata (3.2 kB)\n",
            "Collecting Click==7.0\n",
            "  Downloading Click-7.0-py2.py3-none-any.whl.metadata (3.5 kB)\n",
            "Collecting cssselect==1.0.3\n",
            "  Downloading cssselect-1.0.3-py2.py3-none-any.whl.metadata (2.3 kB)\n",
            "Collecting feedfinder2==0.0.4\n",
            "  Downloading feedfinder2-0.0.4.tar.gz (3.3 kB)\n",
            "  Preparing metadata (setup.py) ... \u001b[?25l\u001b[?25hdone\n",
            "Collecting feedparser==5.2.1\n",
            "  Downloading feedparser-5.2.1.zip (1.2 MB)\n",
            "\u001b[2K     \u001b[90m━━━━━━━━━━━━━━━━━━━━━━━━━━━━━━━━━━━━━━━━\u001b[0m \u001b[32m1.2/1.2 MB\u001b[0m \u001b[31m14.8 MB/s\u001b[0m eta \u001b[36m0:00:00\u001b[0m\n",
            "\u001b[?25h  \u001b[1;31merror\u001b[0m: \u001b[1msubprocess-exited-with-error\u001b[0m\n",
            "  \n",
            "  \u001b[31m×\u001b[0m \u001b[32mpython setup.py egg_info\u001b[0m did not run successfully.\n",
            "  \u001b[31m│\u001b[0m exit code: \u001b[1;36m1\u001b[0m\n",
            "  \u001b[31m╰─>\u001b[0m See above for output.\n",
            "  \n",
            "  \u001b[1;35mnote\u001b[0m: This error originates from a subprocess, and is likely not a problem with pip.\n",
            "  Preparing metadata (setup.py) ... \u001b[?25l\u001b[?25herror\n",
            "\u001b[1;31merror\u001b[0m: \u001b[1mmetadata-generation-failed\u001b[0m\n",
            "\n",
            "\u001b[31m×\u001b[0m Encountered error while generating package metadata.\n",
            "\u001b[31m╰─>\u001b[0m See above for output.\n",
            "\n",
            "\u001b[1;35mnote\u001b[0m: This is an issue with the package mentioned above, not pip.\n",
            "\u001b[1;36mhint\u001b[0m: See above for details.\n"
          ]
        }
      ],
      "source": [
        "!pip install beautifulsoup4==4.7.1 certifi==2019.3.9 chardet==3.0.4 Click==7.0 cssselect==1.0.3 feedfinder2==0.0.4 feedparser==5.2.1 Flask==1.0.2 Flask-Cors==3.0.7 idna==2.8 itsdangerous==1.1.0 jieba3k==0.35.1 Jinja2==2.10 lxml==4.3.2 MarkupSafe==1.1.1 newspaper3k==0.2.8 nltk==3.4 oauthlib==3.0.1 Pillow==5.4.1 python-dateutil==2.8.0 PyYAML==5.1 requests==2.21.0 requests-file==1.4.3 requests-oauthlib==1.2.0 singledispatch==3.4.0.3 six==1.12.0 soupsieve==1.8 tinysegmenter==0.3 tldextract==2.2.1 tqdm==4.31.1 twython==3.7.0 urllib3==1.24.1 Werkzeug==0.15.1\n"
      ]
    },
    {
      "cell_type": "code",
      "source": [
        "import pandas as pd\n",
        "import spacy\n",
        "from scipy.stats import pearsonr\n",
        "import seaborn as sns\n",
        "import matplotlib.pyplot as plt\n",
        "import glob"
      ],
      "metadata": {
        "id": "T3CbhB7upAnK"
      },
      "execution_count": 1,
      "outputs": []
    },
    {
      "cell_type": "code",
      "source": [],
      "metadata": {
        "id": "SzQak7NTdW8Z"
      },
      "execution_count": null,
      "outputs": []
    },
    {
      "cell_type": "code",
      "source": [
        "nlp = spacy.load(\"en_core_web_sm\")\n",
        "\n",
        "# Step 1: Load the CSV Files\n",
        "# Define file paths for each dataset\n",
        "files = {\n",
        "    \"politifact_fake.csv\": \"fake\",\n",
        "    \"politifact_real.csv\": \"real\",\n",
        "    \"gossipcop_fake.csv\": \"fake\",\n",
        "    \"gossipcop_real.csv\": \"real\"\n",
        "}"
      ],
      "metadata": {
        "id": "g90csNIMpAqK"
      },
      "execution_count": 2,
      "outputs": []
    },
    {
      "cell_type": "code",
      "source": [
        "df_list = []\n",
        "for file, label in files.items():\n",
        "    df = pd.read_csv(f\"/content/sample_data/{file}\")\n",
        "    df[\"label\"] = label\n",
        "    df_list.append(df)"
      ],
      "metadata": {
        "id": "p8XDMNdFpAsg"
      },
      "execution_count": 13,
      "outputs": []
    },
    {
      "cell_type": "code",
      "source": [
        "# Concatenate all dataframes\n",
        "df = pd.concat(df_list, ignore_index=True)"
      ],
      "metadata": {
        "id": "5_xvnf1hpAxa"
      },
      "execution_count": 15,
      "outputs": []
    },
    {
      "cell_type": "code",
      "source": [
        "# Step 2: Calculate News Popularity based on tweet count\n",
        "# Split tweet_ids by tab and count\n",
        "df['tweet_count'] = df['tweet_ids'].apply(lambda x: len(str(x).split('\\t')))\n",
        "\n",
        "# Step 3: Named Entity Recognition (NER) on Titles\n",
        "def extract_entities(text):\n",
        "    \"\"\"Extract entities from the text using spaCy.\"\"\"\n",
        "    doc = nlp(text)\n",
        "    entities = [(ent.text, ent.label_) for ent in doc.ents]\n",
        "    return entities\n"
      ],
      "metadata": {
        "id": "VUpltudvuxiA"
      },
      "execution_count": 16,
      "outputs": []
    },
    {
      "cell_type": "code",
      "source": [
        "# Apply NER and add entity information\n",
        "df['entities'] = df['title'].apply(lambda x: extract_entities(x) if pd.notnull(x) else [])\n",
        "\n",
        "# Step 4: Prepare Popularity vs. Fake/Real Correlation Analysis\n",
        "# Map label to numerical values for correlation\n",
        "label_mapping = {'fake': 0, 'real': 1}\n",
        "df['label_numeric'] = df['label'].map(label_mapping)\n"
      ],
      "metadata": {
        "id": "a1PRjxMMu15m"
      },
      "execution_count": 17,
      "outputs": []
    },
    {
      "cell_type": "code",
      "source": [
        "# Calculate correlation between tweet_count (popularity) and label (fake/real)\n",
        "correlation, p_value = (df['tweet_count'], df['label_numeric'])\n",
        "print(f\"Pearson correlation between popularity and news authenticity: {correlation:.2f} (p-value: {p_value:.4f})\")\n"
      ],
      "metadata": {
        "id": "_PCE8boKu1_Y",
        "colab": {
          "base_uri": "https://localhost:8080/"
        },
        "outputId": "b86c7337-9929-495e-b522-e975be0a1f5e"
      },
      "execution_count": 18,
      "outputs": [
        {
          "output_type": "stream",
          "name": "stdout",
          "text": [
            "Pearson correlation between popularity and news authenticity: -0.05 (p-value: 0.0000)\n"
          ]
        }
      ]
    },
    {
      "cell_type": "code",
      "source": [
        "# Step 5: Visualization\n",
        "# Plot popularity distribution by Fake/Real\n",
        "plt.figure(figsize=(10, 6))\n",
        "sns.boxplot(data=df, x='label', y='tweet_count')\n",
        "plt.title(\"News Popularity by Authenticity\")\n",
        "plt.xlabel(\"News Label (Fake/Real)\")\n",
        "plt.ylabel(\"Tweet Count (Popularity)\")\n",
        "plt.show()"
      ],
      "metadata": {
        "colab": {
          "base_uri": "https://localhost:8080/",
          "height": 564
        },
        "id": "vFA_OE0hu8lj",
        "outputId": "1b050fc7-8994-4345-814b-2cbf11f535a8"
      },
      "execution_count": 19,
      "outputs": [
        {
          "output_type": "display_data",
          "data": {
            "text/plain": [
              "<Figure size 1000x600 with 1 Axes>"
            ],
            "image/png": "[encoded data removed]"
          },
          "metadata": {}
        }
      ]
    },
    {
      "cell_type": "code",
      "source": [
        "# Visualizing Entities in Popular News\n",
        "# Get top 10 most popular articles based on tweet_count\n",
        "top_popular_news = df.nlargest(10, 'tweet_count')\n",
        "top_entities = top_popular_news['entities'].explode()"
      ],
      "metadata": {
        "id": "hzJ5LuHgu8o8"
      },
      "execution_count": 20,
      "outputs": []
    },
    {
      "cell_type": "code",
      "source": [
        "# Filter out invalid entries in top_entities\n",
        "entity_labels = [ent[1] for ent in top_entities if isinstance(ent, tuple) and len(ent) > 1]\n",
        "\n",
        "plt.figure(figsize=(10, 6))\n",
        "sns.countplot(y=entity_labels, order=pd.Series(entity_labels).value_counts().index)\n",
        "plt.title(\"Entity Types in Top 10 Most Popular News\")\n",
        "plt.xlabel(\"Frequency\")\n",
        "plt.ylabel(\"Entity Type\")\n",
        "plt.show()\n",
        "\n",
        "plt.show()"
      ],
      "metadata": {
        "colab": {
          "base_uri": "https://localhost:8080/",
          "height": 564
        },
        "id": "22TSvZ29u8ry",
        "outputId": "32963b19-6537-4c1e-e6f5-7d3fb6b3c723"
      },
      "execution_count": 21,
      "outputs": [
        {
          "output_type": "display_data",
          "data": {
            "text/plain": [
              "<Figure size 1000x600 with 1 Axes>"
            ],
            "image/png": "[encoded data removed]"
          },
          "metadata": {}
        }
      ]
    },
    {
      "cell_type": "code",
      "source": [
        "# Drop rows with missing engagement metrics if they exist\n",
        "df.head()"
      ],
      "metadata": {
        "colab": {
          "base_uri": "https://localhost:8080/",
          "height": 642
        },
        "id": "2aQVexD8wDhL",
        "outputId": "f170fd46-235b-455f-ee76-22cc956d3cda"
      },
      "execution_count": null,
      "outputs": [
        {
          "output_type": "execute_result",
          "data": {
            "text/plain": [
              "                id                                           news_url  \\\n",
              "0  politifact15014          speedtalk.com/forum/viewtopic.php?t=51650   \n",
              "1  politifact15156  politics2020.info/index.php/2018/03/13/court-o...   \n",
              "2  politifact14745  www.nscdscamps.org/blog/category/parenting/467...   \n",
              "3  politifact14355  https://howafrica.com/oscar-pistorius-attempts...   \n",
              "4  politifact15371  http://washingtonsources.org/trump-votes-for-d...   \n",
              "\n",
              "                                               title  \\\n",
              "0  BREAKING: First NFL Team Declares Bankruptcy O...   \n",
              "1  Court Orders Obama To Pay $400 Million In Rest...   \n",
              "2  UPDATE: Second Roy Moore Accuser Works For Mic...   \n",
              "3         Oscar Pistorius Attempts To Commit Suicide   \n",
              "4        Trump Votes For Death Penalty For Being Gay   \n",
              "\n",
              "                                           tweet_ids label  tweet_count  \\\n",
              "0  937349434668498944\\t937379378006282240\\t937380...  fake          163   \n",
              "1  972666281441878016\\t972678396575559680\\t972827...  fake          102   \n",
              "2  929405740732870656\\t929439450400264192\\t929439...  fake          220   \n",
              "3  886941526458347521\\t887011300278194176\\t887023...  fake           22   \n",
              "4  915205698212040704\\t915242076681506816\\t915249...  fake          550   \n",
              "\n",
              "                                            entities  label_numeric  \n",
              "0                                                 []              0  \n",
              "1                            [($400 Million, MONEY)]              0  \n",
              "2  [(Second, ORDINAL), (Roy Moore, PERSON), (Mich...              0  \n",
              "3                        [(Oscar Pistorius, PERSON)]              0  \n",
              "4  [(Trump Votes For Death Penalty For Being Gay,...              0  "
            ],
            "text/html": [
              "\n",
              "  <div id=\"df-2b04d128-630d-4c6c-9d4f-cabae9405d64\" class=\"colab-df-container\">\n",
              "    <div>\n",
              "<style scoped>\n",
              "    .dataframe tbody tr th:only-of-type {\n",
              "        vertical-align: middle;\n",
              "    }\n",
              "\n",
              "    .dataframe tbody tr th {\n",
              "        vertical-align: top;\n",
              "    }\n",
              "\n",
              "    .dataframe thead th {\n",
              "        text-align: right;\n",
              "    }\n",
              "</style>\n",
              "<table border=\"1\" class=\"dataframe\">\n",
              "  <thead>\n",
              "    <tr style=\"text-align: right;\">\n",
              "      <th></th>\n",
              "      <th>id</th>\n",
              "      <th>news_url</th>\n",
              "      <th>title</th>\n",
              "      <th>tweet_ids</th>\n",
              "      <th>label</th>\n",
              "      <th>tweet_count</th>\n",
              "      <th>entities</th>\n",
              "      <th>label_numeric</th>\n",
              "    </tr>\n",
              "  </thead>\n",
              "  <tbody>\n",
              "    <tr>\n",
              "      <th>0</th>\n",
              "      <td>politifact15014</td>\n",
              "      <td>speedtalk.com/forum/viewtopic.php?t=51650</td>\n",
              "      <td>BREAKING: First NFL Team Declares Bankruptcy O...</td>\n",
              "      <td>937349434668498944\\t937379378006282240\\t937380...</td>\n",
              "      <td>fake</td>\n",
              "      <td>163</td>\n",
              "      <td>[]</td>\n",
              "      <td>0</td>\n",
              "    </tr>\n",
              "    <tr>\n",
              "      <th>1</th>\n",
              "      <td>politifact15156</td>\n",
              "      <td>politics2020.info/index.php/2018/03/13/court-o...</td>\n",
              "      <td>Court Orders Obama To Pay $400 Million In Rest...</td>\n",
              "      <td>972666281441878016\\t972678396575559680\\t972827...</td>\n",
              "      <td>fake</td>\n",
              "      <td>102</td>\n",
              "      <td>[($400 Million, MONEY)]</td>\n",
              "      <td>0</td>\n",
              "    </tr>\n",
              "    <tr>\n",
              "      <th>2</th>\n",
              "      <td>politifact14745</td>\n",
              "      <td>www.nscdscamps.org/blog/category/parenting/467...</td>\n",
              "      <td>UPDATE: Second Roy Moore Accuser Works For Mic...</td>\n",
              "      <td>929405740732870656\\t929439450400264192\\t929439...</td>\n",
              "      <td>fake</td>\n",
              "      <td>220</td>\n",
              "      <td>[(Second, ORDINAL), (Roy Moore, PERSON), (Mich...</td>\n",
              "      <td>0</td>\n",
              "    </tr>\n",
              "    <tr>\n",
              "      <th>3</th>\n",
              "      <td>politifact14355</td>\n",
              "      <td>https://howafrica.com/oscar-pistorius-attempts...</td>\n",
              "      <td>Oscar Pistorius Attempts To Commit Suicide</td>\n",
              "      <td>886941526458347521\\t887011300278194176\\t887023...</td>\n",
              "      <td>fake</td>\n",
              "      <td>22</td>\n",
              "      <td>[(Oscar Pistorius, PERSON)]</td>\n",
              "      <td>0</td>\n",
              "    </tr>\n",
              "    <tr>\n",
              "      <th>4</th>\n",
              "      <td>politifact15371</td>\n",
              "      <td>http://washingtonsources.org/trump-votes-for-d...</td>\n",
              "      <td>Trump Votes For Death Penalty For Being Gay</td>\n",
              "      <td>915205698212040704\\t915242076681506816\\t915249...</td>\n",
              "      <td>fake</td>\n",
              "      <td>550</td>\n",
              "      <td>[(Trump Votes For Death Penalty For Being Gay,...</td>\n",
              "      <td>0</td>\n",
              "    </tr>\n",
              "  </tbody>\n",
              "</table>\n",
              "</div>\n",
              "    <div class=\"colab-df-buttons\">\n",
              "\n",
              "  <div class=\"colab-df-container\">\n",
              "    <button class=\"colab-df-convert\" onclick=\"convertToInteractive('df-2b04d128-630d-4c6c-9d4f-cabae9405d64')\"\n",
              "            title=\"Convert this dataframe to an interactive table.\"\n",
              "            style=\"display:none;\">\n",
              "\n",
              "  <svg xmlns=\"http://www.w3.org/2000/svg\" height=\"24px\" viewBox=\"0 -960 960 960\">\n",
              "    <path d=\"M120-120v-720h720v720H120Zm60-500h600v-160H180v160Zm220 220h160v-160H400v160Zm0 220h160v-160H400v160ZM180-400h160v-160H180v160Zm440 0h160v-160H620v160ZM180-180h160v-160H180v160Zm440 0h160v-160H620v160Z\"/>\n",
              "  </svg>\n",
              "    </button>\n",
              "\n",
              "  <style>\n",
              "    .colab-df-container {\n",
              "      display:flex;\n",
              "      gap: 12px;\n",
              "    }\n",
              "\n",
              "    .colab-df-convert {\n",
              "      background-color: #E8F0FE;\n",
              "      border: none;\n",
              "      border-radius: 50%;\n",
              "      cursor: pointer;\n",
              "      display: none;\n",
              "      fill: #1967D2;\n",
              "      height: 32px;\n",
              "      padding: 0 0 0 0;\n",
              "      width: 32px;\n",
              "    }\n",
              "\n",
              "    .colab-df-convert:hover {\n",
              "      background-color: #E2EBFA;\n",
              "      box-shadow: 0px 1px 2px rgba(60, 64, 67, 0.3), 0px 1px 3px 1px rgba(60, 64, 67, 0.15);\n",
              "      fill: #174EA6;\n",
              "    }\n",
              "\n",
              "    .colab-df-buttons div {\n",
              "      margin-bottom: 4px;\n",
              "    }\n",
              "\n",
              "    [theme=dark] .colab-df-convert {\n",
              "      background-color: #3B4455;\n",
              "      fill: #D2E3FC;\n",
              "    }\n",
              "\n",
              "    [theme=dark] .colab-df-convert:hover {\n",
              "      background-color: #434B5C;\n",
              "      box-shadow: 0px 1px 3px 1px rgba(0, 0, 0, 0.15);\n",
              "      filter: drop-shadow(0px 1px 2px rgba(0, 0, 0, 0.3));\n",
              "      fill: #FFFFFF;\n",
              "    }\n",
              "  </style>\n",
              "\n",
              "    <script>\n",
              "      const buttonEl =\n",
              "        document.querySelector('#df-2b04d128-630d-4c6c-9d4f-cabae9405d64 button.colab-df-convert');\n",
              "      buttonEl.style.display =\n",
              "        google.colab.kernel.accessAllowed ? 'block' : 'none';\n",
              "\n",
              "      async function convertToInteractive(key) {\n",
              "        const element = document.querySelector('#df-2b04d128-630d-4c6c-9d4f-cabae9405d64');\n",
              "        const dataTable =\n",
              "          await google.colab.kernel.invokeFunction('convertToInteractive',\n",
              "                                                    [key], {});\n",
              "        if (!dataTable) return;\n",
              "\n",
              "        const docLinkHtml = 'Like what you see? Visit the ' +\n",
              "          '<a target=\"_blank\" href=https://colab.research.google.com/notebooks/data_table.ipynb>data table notebook</a>'\n",
              "          + ' to learn more about interactive tables.';\n",
              "        element.innerHTML = '';\n",
              "        dataTable['output_type'] = 'display_data';\n",
              "        await google.colab.output.renderOutput(dataTable, element);\n",
              "        const docLink = document.createElement('div');\n",
              "        docLink.innerHTML = docLinkHtml;\n",
              "        element.appendChild(docLink);\n",
              "      }\n",
              "    </script>\n",
              "  </div>\n",
              "\n",
              "\n",
              "<div id=\"df-5b35516f-8e22-41d6-a943-3358468ded69\">\n",
              "  <button class=\"colab-df-quickchart\" onclick=\"quickchart('df-5b35516f-8e22-41d6-a943-3358468ded69')\"\n",
              "            title=\"Suggest charts\"\n",
              "            style=\"display:none;\">\n",
              "\n",
              "<svg xmlns=\"http://www.w3.org/2000/svg\" height=\"24px\"viewBox=\"0 0 24 24\"\n",
              "     width=\"24px\">\n",
              "    <g>\n",
              "        <path d=\"M19 3H5c-1.1 0-2 .9-2 2v14c0 1.1.9 2 2 2h14c1.1 0 2-.9 2-2V5c0-1.1-.9-2-2-2zM9 17H7v-7h2v7zm4 0h-2V7h2v10zm4 0h-2v-4h2v4z\"/>\n",
              "    </g>\n",
              "</svg>\n",
              "  </button>\n",
              "\n",
              "<style>\n",
              "  .colab-df-quickchart {\n",
              "      --bg-color: #E8F0FE;\n",
              "      --fill-color: #1967D2;\n",
              "      --hover-bg-color: #E2EBFA;\n",
              "      --hover-fill-color: #174EA6;\n",
              "      --disabled-fill-color: #AAA;\n",
              "      --disabled-bg-color: #DDD;\n",
              "  }\n",
              "\n",
              "  [theme=dark] .colab-df-quickchart {\n",
              "      --bg-color: #3B4455;\n",
              "      --fill-color: #D2E3FC;\n",
              "      --hover-bg-color: #434B5C;\n",
              "      --hover-fill-color: #FFFFFF;\n",
              "      --disabled-bg-color: #3B4455;\n",
              "      --disabled-fill-color: #666;\n",
              "  }\n",
              "\n",
              "  .colab-df-quickchart {\n",
              "    background-color: var(--bg-color);\n",
              "    border: none;\n",
              "    border-radius: 50%;\n",
              "    cursor: pointer;\n",
              "    display: none;\n",
              "    fill: var(--fill-color);\n",
              "    height: 32px;\n",
              "    padding: 0;\n",
              "    width: 32px;\n",
              "  }\n",
              "\n",
              "  .colab-df-quickchart:hover {\n",
              "    background-color: var(--hover-bg-color);\n",
              "    box-shadow: 0 1px 2px rgba(60, 64, 67, 0.3), 0 1px 3px 1px rgba(60, 64, 67, 0.15);\n",
              "    fill: var(--button-hover-fill-color);\n",
              "  }\n",
              "\n",
              "  .colab-df-quickchart-complete:disabled,\n",
              "  .colab-df-quickchart-complete:disabled:hover {\n",
              "    background-color: var(--disabled-bg-color);\n",
              "    fill: var(--disabled-fill-color);\n",
              "    box-shadow: none;\n",
              "  }\n",
              "\n",
              "  .colab-df-spinner {\n",
              "    border: 2px solid var(--fill-color);\n",
              "    border-color: transparent;\n",
              "    border-bottom-color: var(--fill-color);\n",
              "    animation:\n",
              "      spin 1s steps(1) infinite;\n",
              "  }\n",
              "\n",
              "  @keyframes spin {\n",
              "    0% {\n",
              "      border-color: transparent;\n",
              "      border-bottom-color: var(--fill-color);\n",
              "      border-left-color: var(--fill-color);\n",
              "    }\n",
              "    20% {\n",
              "      border-color: transparent;\n",
              "      border-left-color: var(--fill-color);\n",
              "      border-top-color: var(--fill-color);\n",
              "    }\n",
              "    30% {\n",
              "      border-color: transparent;\n",
              "      border-left-color: var(--fill-color);\n",
              "      border-top-color: var(--fill-color);\n",
              "      border-right-color: var(--fill-color);\n",
              "    }\n",
              "    40% {\n",
              "      border-color: transparent;\n",
              "      border-right-color: var(--fill-color);\n",
              "      border-top-color: var(--fill-color);\n",
              "    }\n",
              "    60% {\n",
              "      border-color: transparent;\n",
              "      border-right-color: var(--fill-color);\n",
              "    }\n",
              "    80% {\n",
              "      border-color: transparent;\n",
              "      border-right-color: var(--fill-color);\n",
              "      border-bottom-color: var(--fill-color);\n",
              "    }\n",
              "    90% {\n",
              "      border-color: transparent;\n",
              "      border-bottom-color: var(--fill-color);\n",
              "    }\n",
              "  }\n",
              "</style>\n",
              "\n",
              "  <script>\n",
              "    async function quickchart(key) {\n",
              "      const quickchartButtonEl =\n",
              "        document.querySelector('#' + key + ' button');\n",
              "      quickchartButtonEl.disabled = true;  // To prevent multiple clicks.\n",
              "      quickchartButtonEl.classList.add('colab-df-spinner');\n",
              "      try {\n",
              "        const charts = await google.colab.kernel.invokeFunction(\n",
              "            'suggestCharts', [key], {});\n",
              "      } catch (error) {\n",
              "        console.error('Error during call to suggestCharts:', error);\n",
              "      }\n",
              "      quickchartButtonEl.classList.remove('colab-df-spinner');\n",
              "      quickchartButtonEl.classList.add('colab-df-quickchart-complete');\n",
              "    }\n",
              "    (() => {\n",
              "      let quickchartButtonEl =\n",
              "        document.querySelector('#df-5b35516f-8e22-41d6-a943-3358468ded69 button');\n",
              "      quickchartButtonEl.style.display =\n",
              "        google.colab.kernel.accessAllowed ? 'block' : 'none';\n",
              "    })();\n",
              "  </script>\n",
              "</div>\n",
              "\n",
              "    </div>\n",
              "  </div>\n"
            ],
            "application/vnd.google.colaboratory.intrinsic+json": {
              "type": "dataframe",
              "variable_name": "df",
              "summary": "{\n  \"name\": \"df\",\n  \"rows\": 23196,\n  \"fields\": [\n    {\n      \"column\": \"id\",\n      \"properties\": {\n        \"dtype\": \"string\",\n        \"num_unique_values\": 23194,\n        \"samples\": [\n          \"gossipcop-8822451339\",\n          \"gossipcop-915716\",\n          \"gossipcop-877065\"\n        ],\n        \"semantic_type\": \"\",\n        \"description\": \"\"\n      }\n    },\n    {\n      \"column\": \"news_url\",\n      \"properties\": {\n        \"dtype\": \"string\",\n        \"num_unique_values\": 21658,\n        \"samples\": [\n          \"https://ohnotheydidnt.livejournal.com/97445967.html\",\n          \"https://www.follownews.com/destinys-childs-michelle-williams-thanks-fans-for-support-amid-depression-battle-4pxid\",\n          \"https://theworldnews.net/us-news/spoiler-alert-how-deadpool-2-landed-its-vanisher-cameo\"\n        ],\n        \"semantic_type\": \"\",\n        \"description\": \"\"\n      }\n    },\n    {\n      \"column\": \"title\",\n      \"properties\": {\n        \"dtype\": \"string\",\n        \"num_unique_values\": 21724,\n        \"samples\": [\n          \"Video Of Louis Walsh Grabbing Mel B\\u2019s Butt Sparks Sexual Harassment Debate\",\n          \"Angelina Jolie Is Getting Ready For Expensive Halloween Party And Brad Pitt Will Be There\",\n          \"Sir Elton John 'in shock' after his mother dies aged 92\"\n        ],\n        \"semantic_type\": \"\",\n        \"description\": \"\"\n      }\n    },\n    {\n      \"column\": \"tweet_ids\",\n      \"properties\": {\n        \"dtype\": \"string\",\n        \"num_unique_values\": 21597,\n        \"samples\": [\n          \"1027620153608077312\\t1027621856600309763\\t1027623866867351552\\t1027628205681897472\\t1027628421726261249\\t1027631731577446400\\t1027632880225153024\\t1027633461891358721\\t1027997765677264898\\t1028313179447861249\\t1028690128506707968\\t1029831511460261889\\t1029931069779271680\\t1030833818687758336\\t1031514219240411136\\t1031593107878367232\\t1033211170457509888\\t1033302967934304256\\t1034842429055221761\\t1037067561416814592\\t1037068339351306240\\t1037069318889066499\\t1037071757935558659\\t1037071763644006400\\t1037081464100331520\\t1037081546749091845\\t1037083490062413824\\t1037083515710590976\\t1037088229231681536\\t1037125830114267136\\t1037220684009820162\\t1037223596710658049\\t1037385178166054912\\t1037592183577239552\\t1037744226375806976\\t1039292172091248642\\t1043076360867069952\\t1043545174708813824\\t1044883055025033216\\t1046724716139089924\\t1046726438114787330\\t1046857914143535104\\t1046936625387909120\\t1048651124100612096\\t1048660363611389952\\t1048666053272903681\\t1048679561154637824\\t1048809228960509952\\t1049146348455546880\\t1049465949714300929\\t1049479329820889088\\t1049510293280178178\\t1049533599467364353\\t1049565948775141376\\t1049616142397071361\\t1049665278219563008\\t1049670569556291584\\t1049780700310921216\\t1051477828007546886\\t1051679627200983040\\t1052559022421889024\\t1054201761806929920\\t1054945866811723776\\t1057264138903343104\\t1057781636048150528\\t1060074878496399361\\t1060107541709905920\",\n          \"872463255792488448\",\n          \"514211272548573184\\t514579174472699904\\t521829584149680128\\t649323593000689664\\t656288611780972544\\t658761107658567681\\t661706828099616768\\t663002202252808195\\t663607395109572608\\t663613611839848448\\t664218342752960517\\t664898572706406400\\t665147838909689856\\t665147851303985154\\t674631087281332224\\t676845086009909249\\t677657246256472064\\t681190666060337152\\t691326624306970624\\t695121688778805249\\t704069129674817537\\t705544099533885440\\t705544358016192512\\t705545317303717888\\t705545326271148032\\t705545338451468288\\t705545882624618496\\t705545880821063680\\t705545896050561024\\t705545899649314816\\t705545897866727425\\t705545901918412800\\t705545912827809792\\t705545910789406720\\t705545923095429120\\t705545930552926209\\t705545926975180801\\t705545934730502144\\t705545938589208577\\t705545943299391488\\t705545940262780928\\t705545949255307264\\t705545953621610496\\t705545964065435649\\t705545960638672896\\t705545972466626560\\t705545980024791040\\t705545979034935296\\t705545982079950848\\t705545985468948480\\t705545996739063808\\t705551257843269632\\t705562426863919105\\t705593470870818819\\t708176123734011904\\t708267902651211777\\t708953236204466176\\t710909688032960513\\t719193492585648130\\t723365893946777600\\t727989186419150849\\t730289360319451136\\t730776056936943616\\t733435075099004928\\t734556380804329473\\t743203374309449729\\t744382509031493632\\t757074860946272257\\t758734649606615050\\t758736309359824896\\t758737045007110144\\t758737521954074630\\t758738172532494338\\t758743679393632256\\t758748802962436096\\t758751423504846850\\t758751464223232000\\t758751519672004608\\t758751639578652674\\t758751649322053633\\t758751674726912000\\t758751706603630592\\t758751883070550016\\t758751900778901504\\t758751909763096576\\t758751977056501760\\t758751975550754816\\t758752002255888387\\t758752053086695424\\t758752087916285953\\t758752230723891200\\t758752864244232192\\t758753126350397440\\t758753388158918658\\t758753910903468032\\t758754460055269377\\t758754546579570688\\t758754941678784512\\t758755022335307776\\t758755290326138880\\t758755720607199234\\t758756055585263617\\t758756185185058816\\t758756363816333313\\t758756409144123392\\t758756733527400450\\t758757054282620929\\t758757137191501824\\t758757348705984514\\t758757609595932673\\t758757612762624000\\t758757645746593793\\t758758594758189056\\t758758601452314625\\t758759070182567938\\t758759298457542656\\t758759315494801412\\t758759315377364993\\t758759480402337792\\t758759505471627264\\t758759684530667520\\t758759895684542464\\t758760324782784512\\t758760776127672322\\t758761291095965696\\t758762100126777344\\t758762255466975232\\t758762707189395456\\t758763120705802242\\t758763462944251905\\t758763513934409728\\t758763538852810752\\t758763614857732096\\t758763711729393664\\t758763788724215808\\t758763805467893760\\t758763837688385536\\t758765197666418688\\t758767076546838528\\t758767572661788673\\t758767702383157248\\t758767969174519809\\t758768123747110912\\t758772671966502912\\t758790764117712897\\t758811083985391616\\t761610100171612160\\t780121165880823808\\t787140622624759809\\t793585450145284096\\t794495850261188609\\t794496912019881984\\t794497496395325440\\t794497704848191490\\t794497722627674112\\t794497747529453569\\t794497749043408897\\t794497753388699648\\t794497764889460736\\t794497835072749568\\t794498451228786688\\t794498995494277120\\t794499432670605312\\t794499855364128769\\t794500459847413760\\t794500493464567808\\t794501323173621762\\t794502353789460480\\t794503498645716992\\t794503507403370496\\t794503509110439936\\t794503508019945472\\t794503514927964160\\t794503534146252802\\t794503814187536384\\t794504098833805312\\t794504272373108736\\t794504612028055552\\t794504874683727873\\t794505113742118912\\t794505113389834240\\t794505115486957568\\t794505119773528064\\t794505796721803264\\t794506027664310272\\t794506506968317952\\t794508443549925381\\t794508705995902976\\t794515226083233792\\t794516758455611393\\t794520736786481152\\t794543945653096449\\t794563451712655361\\t794871785716150272\\t828790484403417088\\t838919627946266625\\t838920304210640896\\t838920633891315714\\t842467401279143936\\t849098105580650496\\t849709285156179968\\t856626311728553984\\t856627290612150273\\t856627901093072897\\t856629627678150656\\t856686835698991104\\t860564766359728128\\t866366403351326720\\t872302987154264068\\t879801971422769153\\t881571446455185408\\t897399236588863489\\t926551342293929985\\t926553408336736256\\t926556102019469313\\t926561674613604352\\t926567103569842177\\t926599970828021761\\t926604930923802635\\t926608733400190976\\t926612647981830145\\t926619781595389952\\t926665284181811201\\t926695528628441088\\t926712047752155136\\t926731273187549184\\t926791984739528704\\t926829579917934592\\t926917000596742145\\t926932164389851138\\t927271823322107905\\t930601102353031168\\t930603079745056770\\t930606386525933568\\t930606584509685763\\t930607205459611648\\t930607588328333314\\t930607654929620992\\t930608134577631232\\t930608444771586050\\t930608589139513345\\t930609182654517248\\t930610606423658501\\t930628745811161090\\t930659527040667648\\t930684170245935105\\t930726002556317696\\t930756269551570944\\t930762354886893568\\t930766348682252288\\t930783387685736448\\t930798636832903168\\t930963683387330561\\t931116312872538113\\t931205649647648768\\t931371410550816768\\t931561932141875201\\t932030605369339904\\t933091896607436800\\t933092206834991105\\t933241647521058816\\t933283306988118016\\t933319570919755776\\t933377206637735936\\t933415351907385349\\t933416983114207237\\t933470192579039232\\t937864433203843072\\t940289558331166721\\t940542616692756480\\t941685460690178048\\t943305300307615744\\t969412935201247232\\t978613859501002752\\t983800104740990976\\t983829727856287745\\t989160064622710789\\t990269999326511104\\t990333552712708096\\t995125824448802816\\t995421319259815937\\t1005652103543394304\\t1013818322402459648\"\n        ],\n        \"semantic_type\": \"\",\n        \"description\": \"\"\n      }\n    },\n    {\n      \"column\": \"label\",\n      \"properties\": {\n        \"dtype\": \"category\",\n        \"num_unique_values\": 2,\n        \"samples\": [\n          \"real\",\n          \"fake\"\n        ],\n        \"semantic_type\": \"\",\n        \"description\": \"\"\n      }\n    },\n    {\n      \"column\": \"tweet_count\",\n      \"properties\": {\n        \"dtype\": \"number\",\n        \"std\": 488,\n        \"min\": 1,\n        \"max\": 29060,\n        \"num_unique_values\": 824,\n        \"samples\": [\n          862,\n          503\n        ],\n        \"semantic_type\": \"\",\n        \"description\": \"\"\n      }\n    },\n    {\n      \"column\": \"entities\",\n      \"properties\": {\n        \"dtype\": \"object\",\n        \"semantic_type\": \"\",\n        \"description\": \"\"\n      }\n    },\n    {\n      \"column\": \"label_numeric\",\n      \"properties\": {\n        \"dtype\": \"number\",\n        \"std\": 0,\n        \"min\": 0,\n        \"max\": 1,\n        \"num_unique_values\": 2,\n        \"samples\": [\n          1,\n          0\n        ],\n        \"semantic_type\": \"\",\n        \"description\": \"\"\n      }\n    }\n  ]\n}"
            }
          },
          "metadata": {},
          "execution_count": 16
        }
      ]
    },
    {
      "cell_type": "markdown",
      "source": [],
      "metadata": {
        "id": "wxMFLcFw0bbJ"
      }
    },
    {
      "cell_type": "markdown",
      "source": [],
      "metadata": {
        "id": "kVmPzybS-B-L"
      }
    }
  ]
}